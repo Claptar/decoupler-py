{
 "cells": [
  {
   "cell_type": "markdown",
   "id": "9be010e3",
   "metadata": {},
   "source": [
    "# Benchmarking pipeline"
   ]
  },
  {
   "cell_type": "markdown",
   "id": "88056c0f",
   "metadata": {},
   "source": [
    "Biological activities can be estimated by coupling a statistical method with a prior knowledge network. However, it is not clear which method or network performs better. When perturbation experiments are available, one can benchmark these methods by evaluating how good are they at recovering perturbed regulators. In our original `decoupler` [publication](https://doi.org/10.1093/bioadv/vbac016), we observed that `wsum`, `mlm`, `ulm` and `consensus` where the top performer methods. \n",
    "\n",
    "In this notebook we showcase how to use `decoupler` for the benchmarking of methods and prior knowledge networks. The data used here consist of single-gene perturbation experiments from the [KnockTF2](http://www.licpathway.net/KnockTFv2/index.php) database, an extensive dataset of literature curated perturbation experiments. If you use these data for your resarch, please cite the original publication of the resource:\n",
    "\n",
    ">Chenchen Feng, Chao Song, Yuejuan Liu, Fengcui Qian, Yu Gao, Ziyu Ning, Qiuyu Wang, Yong Jiang, Yanyu Li, Meng Li, Jiaxin Chen, Jian Zhang, Chunquan Li, KnockTF: a comprehensive human gene expression profile database with knockdown/knockout of transcription factors, Nucleic Acids Research, Volume 48, Issue D1, 08 January 2020, Pages D93–D100, https://doi.org/10.1093/nar/gkz881\n",
    "\n",
    "<div class=\"alert alert-info\">\n",
    "\n",
    "**Note**\n",
    "    \n",
    "This tutorial assumes that you already know the basics of `decoupler`. Else, check out the [Usage](https://decoupler-py.readthedocs.io/en/latest/notebooks/usage.html) tutorial first.\n",
    "\n",
    "</div>"
   ]
  },
  {
   "cell_type": "markdown",
   "id": "4a2fe17a",
   "metadata": {},
   "source": [
    "## Loading packages\n",
    "\n",
    "First, we need to load the relevant packages."
   ]
  },
  {
   "cell_type": "code",
   "execution_count": 1,
   "id": "8c610d39",
   "metadata": {
    "tags": []
   },
   "outputs": [],
   "source": [
    "import pandas as pd\n",
    "import numpy as np\n",
    "\n",
    "import decoupler as dc"
   ]
  },
  {
   "cell_type": "markdown",
   "id": "1552661f",
   "metadata": {},
   "source": [
    "## Loading the data\n",
    "\n",
    "We can download the data easily from Zenodo:"
   ]
  },
  {
   "cell_type": "code",
   "execution_count": 2,
   "id": "7654e58f",
   "metadata": {},
   "outputs": [
    {
     "name": "stdout",
     "output_type": "stream",
     "text": [
      "--2023-06-01 11:09:30--  https://zenodo.org/record/7035528/files/knockTF_expr.csv?download=1\n",
      "Resolving zenodo.org (zenodo.org)... 188.185.124.72\n",
      "Connecting to zenodo.org (zenodo.org)|188.185.124.72|:443... connected.\n",
      "HTTP request sent, awaiting response... 200 OK\n",
      "Length: 146086808 (139M) [text/plain]\n",
      "Saving to: ‘knockTF_expr.csv’\n",
      "\n",
      "knockTF_expr.csv    100%[===================>] 139,32M  18,8MB/s    in 47s     \n",
      "\n",
      "2023-06-01 11:10:17 (2,97 MB/s) - ‘knockTF_expr.csv’ saved [146086808/146086808]\n",
      "\n",
      "--2023-06-01 11:10:18--  https://zenodo.org/record/7035528/files/knockTF_meta.csv?download=1\n",
      "Resolving zenodo.org (zenodo.org)... 188.185.124.72\n",
      "Connecting to zenodo.org (zenodo.org)|188.185.124.72|:443... connected.\n",
      "HTTP request sent, awaiting response... 200 OK\n",
      "Length: 144861 (141K) [text/plain]\n",
      "Saving to: ‘knockTF_meta.csv’\n",
      "\n",
      "knockTF_meta.csv    100%[===================>] 141,47K  --.-KB/s    in 0,03s   \n",
      "\n",
      "2023-06-01 11:10:18 (4,15 MB/s) - ‘knockTF_meta.csv’ saved [144861/144861]\n",
      "\n"
     ]
    }
   ],
   "source": [
    "!wget 'https://zenodo.org/record/7035528/files/knockTF_expr.csv?download=1' -O knockTF_expr.csv\n",
    "!wget 'https://zenodo.org/record/7035528/files/knockTF_meta.csv?download=1' -O knockTF_meta.csv"
   ]
  },
  {
   "cell_type": "markdown",
   "id": "d2e11366",
   "metadata": {},
   "source": [
    "We can then read it using `pandas`:"
   ]
  },
  {
   "cell_type": "code",
   "execution_count": 3,
   "id": "25c778f4",
   "metadata": {
    "tags": []
   },
   "outputs": [],
   "source": [
    "# Read data\n",
    "mat = pd.read_csv('knockTF_expr.csv', index_col=0)\n",
    "obs = pd.read_csv('knockTF_meta.csv', index_col=0)"
   ]
  },
  {
   "cell_type": "markdown",
   "id": "70634b2b",
   "metadata": {},
   "source": [
    "`mat` consist of a matrix of logFCs between the perturbed and the control samples. Positive values mean that these genes were\n",
    "overexpressed after the perturbation, negative values mean the opposite."
   ]
  },
  {
   "cell_type": "code",
   "execution_count": 4,
   "id": "8fc3a459",
   "metadata": {
    "tags": []
   },
   "outputs": [
    {
     "data": {
      "text/html": [
       "<div>\n",
       "<style scoped>\n",
       "    .dataframe tbody tr th:only-of-type {\n",
       "        vertical-align: middle;\n",
       "    }\n",
       "\n",
       "    .dataframe tbody tr th {\n",
       "        vertical-align: top;\n",
       "    }\n",
       "\n",
       "    .dataframe thead th {\n",
       "        text-align: right;\n",
       "    }\n",
       "</style>\n",
       "<table border=\"1\" class=\"dataframe\">\n",
       "  <thead>\n",
       "    <tr style=\"text-align: right;\">\n",
       "      <th></th>\n",
       "      <th>A1BG</th>\n",
       "      <th>A1BG-AS1</th>\n",
       "      <th>A1CF</th>\n",
       "      <th>A2LD1</th>\n",
       "      <th>A2M</th>\n",
       "      <th>A2ML1</th>\n",
       "      <th>A4GALT</th>\n",
       "      <th>A4GNT</th>\n",
       "      <th>AA06</th>\n",
       "      <th>AAA1</th>\n",
       "      <th>...</th>\n",
       "      <th>ZWINT</th>\n",
       "      <th>ZXDA</th>\n",
       "      <th>ZXDB</th>\n",
       "      <th>ZXDC</th>\n",
       "      <th>ZYG11A</th>\n",
       "      <th>ZYG11B</th>\n",
       "      <th>ZYX</th>\n",
       "      <th>ZZEF1</th>\n",
       "      <th>ZZZ3</th>\n",
       "      <th>psiTPTE22</th>\n",
       "    </tr>\n",
       "  </thead>\n",
       "  <tbody>\n",
       "    <tr>\n",
       "      <th>DataSet_01_001</th>\n",
       "      <td>0.000000</td>\n",
       "      <td>0.000000</td>\n",
       "      <td>0.000000</td>\n",
       "      <td>0.0000</td>\n",
       "      <td>0.000000</td>\n",
       "      <td>0.00000</td>\n",
       "      <td>0.00000</td>\n",
       "      <td>0.00000</td>\n",
       "      <td>0.0</td>\n",
       "      <td>0.0</td>\n",
       "      <td>...</td>\n",
       "      <td>0.000000</td>\n",
       "      <td>0.00000</td>\n",
       "      <td>0.000000</td>\n",
       "      <td>0.000000</td>\n",
       "      <td>0.00000</td>\n",
       "      <td>0.000000</td>\n",
       "      <td>-0.033220</td>\n",
       "      <td>-0.046900</td>\n",
       "      <td>-0.143830</td>\n",
       "      <td>0.00000</td>\n",
       "    </tr>\n",
       "    <tr>\n",
       "      <th>DataSet_01_002</th>\n",
       "      <td>-0.173750</td>\n",
       "      <td>0.000000</td>\n",
       "      <td>-0.537790</td>\n",
       "      <td>-0.4424</td>\n",
       "      <td>-1.596640</td>\n",
       "      <td>-0.00010</td>\n",
       "      <td>-0.08260</td>\n",
       "      <td>-3.64590</td>\n",
       "      <td>0.0</td>\n",
       "      <td>0.0</td>\n",
       "      <td>...</td>\n",
       "      <td>0.000000</td>\n",
       "      <td>0.39579</td>\n",
       "      <td>0.000000</td>\n",
       "      <td>0.086110</td>\n",
       "      <td>0.28574</td>\n",
       "      <td>-0.130210</td>\n",
       "      <td>-0.276640</td>\n",
       "      <td>-0.881580</td>\n",
       "      <td>0.812950</td>\n",
       "      <td>0.47896</td>\n",
       "    </tr>\n",
       "    <tr>\n",
       "      <th>DataSet_01_003</th>\n",
       "      <td>-0.216130</td>\n",
       "      <td>0.000000</td>\n",
       "      <td>-0.220270</td>\n",
       "      <td>-0.0008</td>\n",
       "      <td>0.000000</td>\n",
       "      <td>0.15580</td>\n",
       "      <td>-0.35802</td>\n",
       "      <td>-0.32025</td>\n",
       "      <td>0.0</td>\n",
       "      <td>0.0</td>\n",
       "      <td>...</td>\n",
       "      <td>0.000000</td>\n",
       "      <td>-0.82964</td>\n",
       "      <td>0.000000</td>\n",
       "      <td>0.064470</td>\n",
       "      <td>0.59323</td>\n",
       "      <td>0.313950</td>\n",
       "      <td>-0.232600</td>\n",
       "      <td>0.065510</td>\n",
       "      <td>-0.147140</td>\n",
       "      <td>0.00000</td>\n",
       "    </tr>\n",
       "    <tr>\n",
       "      <th>DataSet_01_004</th>\n",
       "      <td>-0.255680</td>\n",
       "      <td>0.111050</td>\n",
       "      <td>-0.285270</td>\n",
       "      <td>0.0000</td>\n",
       "      <td>-0.035860</td>\n",
       "      <td>-0.46970</td>\n",
       "      <td>0.18559</td>\n",
       "      <td>-0.25601</td>\n",
       "      <td>0.0</td>\n",
       "      <td>0.0</td>\n",
       "      <td>...</td>\n",
       "      <td>0.000000</td>\n",
       "      <td>-0.39888</td>\n",
       "      <td>0.000000</td>\n",
       "      <td>0.104440</td>\n",
       "      <td>-0.16434</td>\n",
       "      <td>0.191460</td>\n",
       "      <td>0.415610</td>\n",
       "      <td>0.393840</td>\n",
       "      <td>0.127900</td>\n",
       "      <td>0.00000</td>\n",
       "    </tr>\n",
       "    <tr>\n",
       "      <th>DataSet_01_005</th>\n",
       "      <td>0.478500</td>\n",
       "      <td>-0.375710</td>\n",
       "      <td>-0.847180</td>\n",
       "      <td>0.0000</td>\n",
       "      <td>3.354450</td>\n",
       "      <td>0.17104</td>\n",
       "      <td>-0.34852</td>\n",
       "      <td>-0.95517</td>\n",
       "      <td>0.0</td>\n",
       "      <td>0.0</td>\n",
       "      <td>...</td>\n",
       "      <td>0.000000</td>\n",
       "      <td>0.24849</td>\n",
       "      <td>0.000000</td>\n",
       "      <td>-0.286920</td>\n",
       "      <td>-0.01815</td>\n",
       "      <td>0.119410</td>\n",
       "      <td>0.077850</td>\n",
       "      <td>0.234740</td>\n",
       "      <td>0.228690</td>\n",
       "      <td>0.00000</td>\n",
       "    </tr>\n",
       "    <tr>\n",
       "      <th>...</th>\n",
       "      <td>...</td>\n",
       "      <td>...</td>\n",
       "      <td>...</td>\n",
       "      <td>...</td>\n",
       "      <td>...</td>\n",
       "      <td>...</td>\n",
       "      <td>...</td>\n",
       "      <td>...</td>\n",
       "      <td>...</td>\n",
       "      <td>...</td>\n",
       "      <td>...</td>\n",
       "      <td>...</td>\n",
       "      <td>...</td>\n",
       "      <td>...</td>\n",
       "      <td>...</td>\n",
       "      <td>...</td>\n",
       "      <td>...</td>\n",
       "      <td>...</td>\n",
       "      <td>...</td>\n",
       "      <td>...</td>\n",
       "      <td>...</td>\n",
       "    </tr>\n",
       "    <tr>\n",
       "      <th>DataSet_04_039</th>\n",
       "      <td>0.668721</td>\n",
       "      <td>0.000000</td>\n",
       "      <td>0.120893</td>\n",
       "      <td>0.0000</td>\n",
       "      <td>0.263564</td>\n",
       "      <td>0.00000</td>\n",
       "      <td>0.00000</td>\n",
       "      <td>0.00000</td>\n",
       "      <td>0.0</td>\n",
       "      <td>0.0</td>\n",
       "      <td>...</td>\n",
       "      <td>-0.324808</td>\n",
       "      <td>0.00000</td>\n",
       "      <td>-0.370491</td>\n",
       "      <td>0.092874</td>\n",
       "      <td>0.00000</td>\n",
       "      <td>0.014075</td>\n",
       "      <td>-0.215169</td>\n",
       "      <td>0.141374</td>\n",
       "      <td>-0.076054</td>\n",
       "      <td>0.00000</td>\n",
       "    </tr>\n",
       "    <tr>\n",
       "      <th>DataSet_04_040</th>\n",
       "      <td>1.816027</td>\n",
       "      <td>0.000000</td>\n",
       "      <td>0.139721</td>\n",
       "      <td>0.0000</td>\n",
       "      <td>0.459498</td>\n",
       "      <td>0.00000</td>\n",
       "      <td>0.00000</td>\n",
       "      <td>0.00000</td>\n",
       "      <td>0.0</td>\n",
       "      <td>0.0</td>\n",
       "      <td>...</td>\n",
       "      <td>-0.321726</td>\n",
       "      <td>0.00000</td>\n",
       "      <td>-0.144934</td>\n",
       "      <td>-0.238343</td>\n",
       "      <td>0.00000</td>\n",
       "      <td>-0.134995</td>\n",
       "      <td>0.577406</td>\n",
       "      <td>0.082028</td>\n",
       "      <td>-0.171424</td>\n",
       "      <td>0.00000</td>\n",
       "    </tr>\n",
       "    <tr>\n",
       "      <th>DataSet_04_041</th>\n",
       "      <td>-0.174250</td>\n",
       "      <td>0.000000</td>\n",
       "      <td>-0.084499</td>\n",
       "      <td>0.0000</td>\n",
       "      <td>0.112492</td>\n",
       "      <td>0.00000</td>\n",
       "      <td>0.00000</td>\n",
       "      <td>0.00000</td>\n",
       "      <td>0.0</td>\n",
       "      <td>0.0</td>\n",
       "      <td>...</td>\n",
       "      <td>0.405369</td>\n",
       "      <td>0.00000</td>\n",
       "      <td>0.272526</td>\n",
       "      <td>-0.125475</td>\n",
       "      <td>0.00000</td>\n",
       "      <td>0.019763</td>\n",
       "      <td>-0.098584</td>\n",
       "      <td>0.072675</td>\n",
       "      <td>0.199813</td>\n",
       "      <td>0.00000</td>\n",
       "    </tr>\n",
       "    <tr>\n",
       "      <th>DataSet_04_042</th>\n",
       "      <td>0.976681</td>\n",
       "      <td>0.000000</td>\n",
       "      <td>0.099845</td>\n",
       "      <td>0.0000</td>\n",
       "      <td>0.366973</td>\n",
       "      <td>0.00000</td>\n",
       "      <td>0.00000</td>\n",
       "      <td>0.00000</td>\n",
       "      <td>0.0</td>\n",
       "      <td>0.0</td>\n",
       "      <td>...</td>\n",
       "      <td>0.397698</td>\n",
       "      <td>0.00000</td>\n",
       "      <td>-0.398350</td>\n",
       "      <td>0.037134</td>\n",
       "      <td>0.00000</td>\n",
       "      <td>0.409704</td>\n",
       "      <td>-0.056978</td>\n",
       "      <td>0.308122</td>\n",
       "      <td>-0.058794</td>\n",
       "      <td>0.00000</td>\n",
       "    </tr>\n",
       "    <tr>\n",
       "      <th>DataSet_04_043</th>\n",
       "      <td>0.677944</td>\n",
       "      <td>0.584963</td>\n",
       "      <td>0.271215</td>\n",
       "      <td>0.0000</td>\n",
       "      <td>0.104090</td>\n",
       "      <td>0.00000</td>\n",
       "      <td>0.00000</td>\n",
       "      <td>0.00000</td>\n",
       "      <td>0.0</td>\n",
       "      <td>0.0</td>\n",
       "      <td>...</td>\n",
       "      <td>-0.357371</td>\n",
       "      <td>0.00000</td>\n",
       "      <td>-0.152622</td>\n",
       "      <td>-0.076498</td>\n",
       "      <td>0.00000</td>\n",
       "      <td>0.047949</td>\n",
       "      <td>-0.169766</td>\n",
       "      <td>0.178053</td>\n",
       "      <td>0.199003</td>\n",
       "      <td>0.00000</td>\n",
       "    </tr>\n",
       "  </tbody>\n",
       "</table>\n",
       "<p>907 rows × 21985 columns</p>\n",
       "</div>"
      ],
      "text/plain": [
       "                    A1BG  A1BG-AS1      A1CF   A2LD1       A2M    A2ML1  \\\n",
       "DataSet_01_001  0.000000  0.000000  0.000000  0.0000  0.000000  0.00000   \n",
       "DataSet_01_002 -0.173750  0.000000 -0.537790 -0.4424 -1.596640 -0.00010   \n",
       "DataSet_01_003 -0.216130  0.000000 -0.220270 -0.0008  0.000000  0.15580   \n",
       "DataSet_01_004 -0.255680  0.111050 -0.285270  0.0000 -0.035860 -0.46970   \n",
       "DataSet_01_005  0.478500 -0.375710 -0.847180  0.0000  3.354450  0.17104   \n",
       "...                  ...       ...       ...     ...       ...      ...   \n",
       "DataSet_04_039  0.668721  0.000000  0.120893  0.0000  0.263564  0.00000   \n",
       "DataSet_04_040  1.816027  0.000000  0.139721  0.0000  0.459498  0.00000   \n",
       "DataSet_04_041 -0.174250  0.000000 -0.084499  0.0000  0.112492  0.00000   \n",
       "DataSet_04_042  0.976681  0.000000  0.099845  0.0000  0.366973  0.00000   \n",
       "DataSet_04_043  0.677944  0.584963  0.271215  0.0000  0.104090  0.00000   \n",
       "\n",
       "                 A4GALT    A4GNT  AA06  AAA1  ...     ZWINT     ZXDA  \\\n",
       "DataSet_01_001  0.00000  0.00000   0.0   0.0  ...  0.000000  0.00000   \n",
       "DataSet_01_002 -0.08260 -3.64590   0.0   0.0  ...  0.000000  0.39579   \n",
       "DataSet_01_003 -0.35802 -0.32025   0.0   0.0  ...  0.000000 -0.82964   \n",
       "DataSet_01_004  0.18559 -0.25601   0.0   0.0  ...  0.000000 -0.39888   \n",
       "DataSet_01_005 -0.34852 -0.95517   0.0   0.0  ...  0.000000  0.24849   \n",
       "...                 ...      ...   ...   ...  ...       ...      ...   \n",
       "DataSet_04_039  0.00000  0.00000   0.0   0.0  ... -0.324808  0.00000   \n",
       "DataSet_04_040  0.00000  0.00000   0.0   0.0  ... -0.321726  0.00000   \n",
       "DataSet_04_041  0.00000  0.00000   0.0   0.0  ...  0.405369  0.00000   \n",
       "DataSet_04_042  0.00000  0.00000   0.0   0.0  ...  0.397698  0.00000   \n",
       "DataSet_04_043  0.00000  0.00000   0.0   0.0  ... -0.357371  0.00000   \n",
       "\n",
       "                    ZXDB      ZXDC   ZYG11A    ZYG11B       ZYX     ZZEF1  \\\n",
       "DataSet_01_001  0.000000  0.000000  0.00000  0.000000 -0.033220 -0.046900   \n",
       "DataSet_01_002  0.000000  0.086110  0.28574 -0.130210 -0.276640 -0.881580   \n",
       "DataSet_01_003  0.000000  0.064470  0.59323  0.313950 -0.232600  0.065510   \n",
       "DataSet_01_004  0.000000  0.104440 -0.16434  0.191460  0.415610  0.393840   \n",
       "DataSet_01_005  0.000000 -0.286920 -0.01815  0.119410  0.077850  0.234740   \n",
       "...                  ...       ...      ...       ...       ...       ...   \n",
       "DataSet_04_039 -0.370491  0.092874  0.00000  0.014075 -0.215169  0.141374   \n",
       "DataSet_04_040 -0.144934 -0.238343  0.00000 -0.134995  0.577406  0.082028   \n",
       "DataSet_04_041  0.272526 -0.125475  0.00000  0.019763 -0.098584  0.072675   \n",
       "DataSet_04_042 -0.398350  0.037134  0.00000  0.409704 -0.056978  0.308122   \n",
       "DataSet_04_043 -0.152622 -0.076498  0.00000  0.047949 -0.169766  0.178053   \n",
       "\n",
       "                    ZZZ3  psiTPTE22  \n",
       "DataSet_01_001 -0.143830    0.00000  \n",
       "DataSet_01_002  0.812950    0.47896  \n",
       "DataSet_01_003 -0.147140    0.00000  \n",
       "DataSet_01_004  0.127900    0.00000  \n",
       "DataSet_01_005  0.228690    0.00000  \n",
       "...                  ...        ...  \n",
       "DataSet_04_039 -0.076054    0.00000  \n",
       "DataSet_04_040 -0.171424    0.00000  \n",
       "DataSet_04_041  0.199813    0.00000  \n",
       "DataSet_04_042 -0.058794    0.00000  \n",
       "DataSet_04_043  0.199003    0.00000  \n",
       "\n",
       "[907 rows x 21985 columns]"
      ]
     },
     "execution_count": 4,
     "metadata": {},
     "output_type": "execute_result"
    }
   ],
   "source": [
    "mat"
   ]
  },
  {
   "cell_type": "markdown",
   "id": "c420680b",
   "metadata": {},
   "source": [
    "On the other hand, `obs` contains the meta-data information of each perturbation experiment.\n",
    "Here one can find which TF was perturbed (`TF` column), and many other useful information."
   ]
  },
  {
   "cell_type": "code",
   "execution_count": 5,
   "id": "fa5396dc",
   "metadata": {
    "tags": []
   },
   "outputs": [
    {
     "data": {
      "text/html": [
       "<div>\n",
       "<style scoped>\n",
       "    .dataframe tbody tr th:only-of-type {\n",
       "        vertical-align: middle;\n",
       "    }\n",
       "\n",
       "    .dataframe tbody tr th {\n",
       "        vertical-align: top;\n",
       "    }\n",
       "\n",
       "    .dataframe thead th {\n",
       "        text-align: right;\n",
       "    }\n",
       "</style>\n",
       "<table border=\"1\" class=\"dataframe\">\n",
       "  <thead>\n",
       "    <tr style=\"text-align: right;\">\n",
       "      <th></th>\n",
       "      <th>TF</th>\n",
       "      <th>Species</th>\n",
       "      <th>Knock.Method</th>\n",
       "      <th>Biosample.Name</th>\n",
       "      <th>Profile.ID</th>\n",
       "      <th>Platform</th>\n",
       "      <th>TF.Class</th>\n",
       "      <th>TF.Superclass</th>\n",
       "      <th>Tissue.Type</th>\n",
       "      <th>Biosample.Type</th>\n",
       "      <th>Data.Source</th>\n",
       "      <th>Pubmed.ID</th>\n",
       "      <th>logFC</th>\n",
       "    </tr>\n",
       "  </thead>\n",
       "  <tbody>\n",
       "    <tr>\n",
       "      <th>DataSet_01_001</th>\n",
       "      <td>ESR1</td>\n",
       "      <td>Homo sapiens</td>\n",
       "      <td>siRNA</td>\n",
       "      <td>MCF7</td>\n",
       "      <td>GSE10061</td>\n",
       "      <td>GPL3921</td>\n",
       "      <td>Nuclear receptors with C4 zinc fingers</td>\n",
       "      <td>Zinc-coordinating DNA-binding domains</td>\n",
       "      <td>Mammary_gland</td>\n",
       "      <td>Cell line</td>\n",
       "      <td>GEO</td>\n",
       "      <td>18631401</td>\n",
       "      <td>-0.713850</td>\n",
       "    </tr>\n",
       "    <tr>\n",
       "      <th>DataSet_01_002</th>\n",
       "      <td>HNF1A</td>\n",
       "      <td>Homo sapiens</td>\n",
       "      <td>shRNA</td>\n",
       "      <td>HuH7</td>\n",
       "      <td>GSE103128</td>\n",
       "      <td>GPL18180</td>\n",
       "      <td>Homeo domain factors</td>\n",
       "      <td>Helix-turn-helix domains</td>\n",
       "      <td>Liver</td>\n",
       "      <td>Cell line</td>\n",
       "      <td>GEO</td>\n",
       "      <td>29466992</td>\n",
       "      <td>0.164280</td>\n",
       "    </tr>\n",
       "    <tr>\n",
       "      <th>DataSet_01_003</th>\n",
       "      <td>MLXIP</td>\n",
       "      <td>Homo sapiens</td>\n",
       "      <td>shRNA</td>\n",
       "      <td>HA1ER</td>\n",
       "      <td>GSE11242</td>\n",
       "      <td>GPL4133</td>\n",
       "      <td>Basic helix-loop-helix factors (bHLH)</td>\n",
       "      <td>Basic domains</td>\n",
       "      <td>Embryo_kidney</td>\n",
       "      <td>Stem cell</td>\n",
       "      <td>GEO</td>\n",
       "      <td>18458340</td>\n",
       "      <td>0.262150</td>\n",
       "    </tr>\n",
       "    <tr>\n",
       "      <th>DataSet_01_004</th>\n",
       "      <td>CREB1</td>\n",
       "      <td>Homo sapiens</td>\n",
       "      <td>shRNA</td>\n",
       "      <td>K562</td>\n",
       "      <td>GSE12056</td>\n",
       "      <td>GPL570</td>\n",
       "      <td>Basic leucine zipper factors (bZIP)</td>\n",
       "      <td>Basic domains</td>\n",
       "      <td>Haematopoietic_and_lymphoid_tissue</td>\n",
       "      <td>Cell line</td>\n",
       "      <td>GEO</td>\n",
       "      <td>18801183</td>\n",
       "      <td>-0.950180</td>\n",
       "    </tr>\n",
       "    <tr>\n",
       "      <th>DataSet_01_005</th>\n",
       "      <td>POU5F1</td>\n",
       "      <td>Homo sapiens</td>\n",
       "      <td>siRNA</td>\n",
       "      <td>GBS6</td>\n",
       "      <td>GSE12320</td>\n",
       "      <td>GPL570</td>\n",
       "      <td>Homeo domain factors</td>\n",
       "      <td>Helix-turn-helix domains</td>\n",
       "      <td>Bone_marrow</td>\n",
       "      <td>Cell line</td>\n",
       "      <td>GEO</td>\n",
       "      <td>20203285</td>\n",
       "      <td>0.000000</td>\n",
       "    </tr>\n",
       "    <tr>\n",
       "      <th>...</th>\n",
       "      <td>...</td>\n",
       "      <td>...</td>\n",
       "      <td>...</td>\n",
       "      <td>...</td>\n",
       "      <td>...</td>\n",
       "      <td>...</td>\n",
       "      <td>...</td>\n",
       "      <td>...</td>\n",
       "      <td>...</td>\n",
       "      <td>...</td>\n",
       "      <td>...</td>\n",
       "      <td>...</td>\n",
       "      <td>...</td>\n",
       "    </tr>\n",
       "    <tr>\n",
       "      <th>DataSet_04_039</th>\n",
       "      <td>SRPK2</td>\n",
       "      <td>Homo sapiens</td>\n",
       "      <td>CRISPR</td>\n",
       "      <td>HepG2</td>\n",
       "      <td>ENCSR929EIP</td>\n",
       "      <td>-</td>\n",
       "      <td>Others</td>\n",
       "      <td>ENCODE_TF</td>\n",
       "      <td>Liver</td>\n",
       "      <td>Cell line</td>\n",
       "      <td>ENCODE</td>\n",
       "      <td>22955616</td>\n",
       "      <td>-1.392551</td>\n",
       "    </tr>\n",
       "    <tr>\n",
       "      <th>DataSet_04_040</th>\n",
       "      <td>WRN</td>\n",
       "      <td>Homo sapiens</td>\n",
       "      <td>shRNA</td>\n",
       "      <td>HepG2</td>\n",
       "      <td>ENCSR093FHC</td>\n",
       "      <td>-</td>\n",
       "      <td>Others</td>\n",
       "      <td>ENCODE_TF</td>\n",
       "      <td>Liver</td>\n",
       "      <td>Cell line</td>\n",
       "      <td>ENCODE</td>\n",
       "      <td>22955616</td>\n",
       "      <td>-0.173964</td>\n",
       "    </tr>\n",
       "    <tr>\n",
       "      <th>DataSet_04_041</th>\n",
       "      <td>YBX1</td>\n",
       "      <td>Homo sapiens</td>\n",
       "      <td>CRISPR</td>\n",
       "      <td>HepG2</td>\n",
       "      <td>ENCSR548OTL</td>\n",
       "      <td>-</td>\n",
       "      <td>Cold-shock domain factors</td>\n",
       "      <td>beta-Barrel DNA-binding domains</td>\n",
       "      <td>Liver</td>\n",
       "      <td>Cell line</td>\n",
       "      <td>ENCODE</td>\n",
       "      <td>22955616</td>\n",
       "      <td>-2.025170</td>\n",
       "    </tr>\n",
       "    <tr>\n",
       "      <th>DataSet_04_042</th>\n",
       "      <td>ZC3H8</td>\n",
       "      <td>Homo sapiens</td>\n",
       "      <td>shRNA</td>\n",
       "      <td>HepG2</td>\n",
       "      <td>ENCSR184YDW</td>\n",
       "      <td>-</td>\n",
       "      <td>C3H zinc finger factors</td>\n",
       "      <td>Zinc-coordinating DNA-binding domains</td>\n",
       "      <td>Liver</td>\n",
       "      <td>Cell line</td>\n",
       "      <td>ENCODE</td>\n",
       "      <td>22955616</td>\n",
       "      <td>-0.027152</td>\n",
       "    </tr>\n",
       "    <tr>\n",
       "      <th>DataSet_04_043</th>\n",
       "      <td>ZNF574</td>\n",
       "      <td>Homo sapiens</td>\n",
       "      <td>CRISPR</td>\n",
       "      <td>HepG2</td>\n",
       "      <td>ENCSR821GQN</td>\n",
       "      <td>-</td>\n",
       "      <td>C2H2 zinc finger factors</td>\n",
       "      <td>Zinc-coordinating DNA-binding domains</td>\n",
       "      <td>Liver</td>\n",
       "      <td>Cell line</td>\n",
       "      <td>ENCODE</td>\n",
       "      <td>22955616</td>\n",
       "      <td>0.990298</td>\n",
       "    </tr>\n",
       "  </tbody>\n",
       "</table>\n",
       "<p>907 rows × 13 columns</p>\n",
       "</div>"
      ],
      "text/plain": [
       "                    TF       Species Knock.Method Biosample.Name   Profile.ID  \\\n",
       "DataSet_01_001    ESR1  Homo sapiens        siRNA           MCF7     GSE10061   \n",
       "DataSet_01_002   HNF1A  Homo sapiens        shRNA           HuH7    GSE103128   \n",
       "DataSet_01_003   MLXIP  Homo sapiens        shRNA          HA1ER     GSE11242   \n",
       "DataSet_01_004   CREB1  Homo sapiens        shRNA           K562     GSE12056   \n",
       "DataSet_01_005  POU5F1  Homo sapiens        siRNA           GBS6     GSE12320   \n",
       "...                ...           ...          ...            ...          ...   \n",
       "DataSet_04_039   SRPK2  Homo sapiens       CRISPR          HepG2  ENCSR929EIP   \n",
       "DataSet_04_040     WRN  Homo sapiens        shRNA          HepG2  ENCSR093FHC   \n",
       "DataSet_04_041    YBX1  Homo sapiens       CRISPR          HepG2  ENCSR548OTL   \n",
       "DataSet_04_042   ZC3H8  Homo sapiens        shRNA          HepG2  ENCSR184YDW   \n",
       "DataSet_04_043  ZNF574  Homo sapiens       CRISPR          HepG2  ENCSR821GQN   \n",
       "\n",
       "                Platform                                TF.Class  \\\n",
       "DataSet_01_001   GPL3921  Nuclear receptors with C4 zinc fingers   \n",
       "DataSet_01_002  GPL18180                    Homeo domain factors   \n",
       "DataSet_01_003   GPL4133   Basic helix-loop-helix factors (bHLH)   \n",
       "DataSet_01_004    GPL570     Basic leucine zipper factors (bZIP)   \n",
       "DataSet_01_005    GPL570                    Homeo domain factors   \n",
       "...                  ...                                     ...   \n",
       "DataSet_04_039         -                                  Others   \n",
       "DataSet_04_040         -                                  Others   \n",
       "DataSet_04_041         -               Cold-shock domain factors   \n",
       "DataSet_04_042         -                 C3H zinc finger factors   \n",
       "DataSet_04_043         -                C2H2 zinc finger factors   \n",
       "\n",
       "                                        TF.Superclass  \\\n",
       "DataSet_01_001  Zinc-coordinating DNA-binding domains   \n",
       "DataSet_01_002               Helix-turn-helix domains   \n",
       "DataSet_01_003                          Basic domains   \n",
       "DataSet_01_004                          Basic domains   \n",
       "DataSet_01_005               Helix-turn-helix domains   \n",
       "...                                               ...   \n",
       "DataSet_04_039                              ENCODE_TF   \n",
       "DataSet_04_040                              ENCODE_TF   \n",
       "DataSet_04_041        beta-Barrel DNA-binding domains   \n",
       "DataSet_04_042  Zinc-coordinating DNA-binding domains   \n",
       "DataSet_04_043  Zinc-coordinating DNA-binding domains   \n",
       "\n",
       "                                       Tissue.Type Biosample.Type Data.Source  \\\n",
       "DataSet_01_001                       Mammary_gland      Cell line         GEO   \n",
       "DataSet_01_002                               Liver      Cell line         GEO   \n",
       "DataSet_01_003                       Embryo_kidney      Stem cell         GEO   \n",
       "DataSet_01_004  Haematopoietic_and_lymphoid_tissue      Cell line         GEO   \n",
       "DataSet_01_005                         Bone_marrow      Cell line         GEO   \n",
       "...                                            ...            ...         ...   \n",
       "DataSet_04_039                               Liver      Cell line      ENCODE   \n",
       "DataSet_04_040                               Liver      Cell line      ENCODE   \n",
       "DataSet_04_041                               Liver      Cell line      ENCODE   \n",
       "DataSet_04_042                               Liver      Cell line      ENCODE   \n",
       "DataSet_04_043                               Liver      Cell line      ENCODE   \n",
       "\n",
       "               Pubmed.ID     logFC  \n",
       "DataSet_01_001  18631401 -0.713850  \n",
       "DataSet_01_002  29466992  0.164280  \n",
       "DataSet_01_003  18458340  0.262150  \n",
       "DataSet_01_004  18801183 -0.950180  \n",
       "DataSet_01_005  20203285  0.000000  \n",
       "...                  ...       ...  \n",
       "DataSet_04_039  22955616 -1.392551  \n",
       "DataSet_04_040  22955616 -0.173964  \n",
       "DataSet_04_041  22955616 -2.025170  \n",
       "DataSet_04_042  22955616 -0.027152  \n",
       "DataSet_04_043  22955616  0.990298  \n",
       "\n",
       "[907 rows x 13 columns]"
      ]
     },
     "execution_count": 5,
     "metadata": {},
     "output_type": "execute_result"
    }
   ],
   "source": [
    "obs"
   ]
  },
  {
   "cell_type": "markdown",
   "id": "f6d02df0",
   "metadata": {},
   "source": [
    "## Filtering\n",
    "\n",
    "Since some of the experiments collected inside KnockTF are of low quality, it is best to remove them. We can do this by filtering\n",
    "perturbation experiments where the knocked TF does not show a strong negative logFC (meaning that the knock method did not work).\n"
   ]
  },
  {
   "cell_type": "code",
   "execution_count": 6,
   "id": "b5450177",
   "metadata": {
    "tags": []
   },
   "outputs": [
    {
     "data": {
      "text/plain": [
       "((388, 21985), (388, 13))"
      ]
     },
     "execution_count": 6,
     "metadata": {},
     "output_type": "execute_result"
    }
   ],
   "source": [
    "# Filter out low quality experiments (positive logFCs in knockout experiments)\n",
    "msk = obs['logFC'] < -1\n",
    "mat = mat[msk]\n",
    "obs = obs[msk]\n",
    "mat.shape, obs.shape"
   ]
  },
  {
   "cell_type": "markdown",
   "id": "af388fa0",
   "metadata": {},
   "source": [
    "## Evaluation\n",
    "\n",
    "### Single network\n",
    "\n",
    "As an example, we will evaluate the gene regulatory network\n",
    "[CollecTRI](https://github.com/saezlab/CollecTRI), for more information you can visit this\n",
    "[other vignette](https://decoupler-py.readthedocs.io/en/latest/notebooks/dorothea.html).\n",
    "\n",
    "We can retrieve this network by running:"
   ]
  },
  {
   "cell_type": "code",
   "execution_count": 7,
   "id": "e66d6631-575b-4f1e-ae33-89e0f78e2d1d",
   "metadata": {
    "tags": []
   },
   "outputs": [
    {
     "data": {
      "text/html": [
       "<div>\n",
       "<style scoped>\n",
       "    .dataframe tbody tr th:only-of-type {\n",
       "        vertical-align: middle;\n",
       "    }\n",
       "\n",
       "    .dataframe tbody tr th {\n",
       "        vertical-align: top;\n",
       "    }\n",
       "\n",
       "    .dataframe thead th {\n",
       "        text-align: right;\n",
       "    }\n",
       "</style>\n",
       "<table border=\"1\" class=\"dataframe\">\n",
       "  <thead>\n",
       "    <tr style=\"text-align: right;\">\n",
       "      <th></th>\n",
       "      <th>source</th>\n",
       "      <th>target</th>\n",
       "      <th>weight</th>\n",
       "    </tr>\n",
       "  </thead>\n",
       "  <tbody>\n",
       "    <tr>\n",
       "      <th>0</th>\n",
       "      <td>MYC</td>\n",
       "      <td>TERT</td>\n",
       "      <td>1</td>\n",
       "    </tr>\n",
       "    <tr>\n",
       "      <th>1</th>\n",
       "      <td>SPI1</td>\n",
       "      <td>BGLAP</td>\n",
       "      <td>1</td>\n",
       "    </tr>\n",
       "    <tr>\n",
       "      <th>2</th>\n",
       "      <td>SMAD3</td>\n",
       "      <td>JUN</td>\n",
       "      <td>1</td>\n",
       "    </tr>\n",
       "    <tr>\n",
       "      <th>3</th>\n",
       "      <td>SMAD4</td>\n",
       "      <td>JUN</td>\n",
       "      <td>1</td>\n",
       "    </tr>\n",
       "    <tr>\n",
       "      <th>4</th>\n",
       "      <td>STAT5A</td>\n",
       "      <td>IL2</td>\n",
       "      <td>1</td>\n",
       "    </tr>\n",
       "    <tr>\n",
       "      <th>...</th>\n",
       "      <td>...</td>\n",
       "      <td>...</td>\n",
       "      <td>...</td>\n",
       "    </tr>\n",
       "    <tr>\n",
       "      <th>43173</th>\n",
       "      <td>NFKB</td>\n",
       "      <td>hsa-miR-143-3p</td>\n",
       "      <td>1</td>\n",
       "    </tr>\n",
       "    <tr>\n",
       "      <th>43174</th>\n",
       "      <td>AP1</td>\n",
       "      <td>hsa-miR-206</td>\n",
       "      <td>1</td>\n",
       "    </tr>\n",
       "    <tr>\n",
       "      <th>43175</th>\n",
       "      <td>NFKB</td>\n",
       "      <td>hsa-miR-21-5p</td>\n",
       "      <td>1</td>\n",
       "    </tr>\n",
       "    <tr>\n",
       "      <th>43176</th>\n",
       "      <td>NFKB</td>\n",
       "      <td>hsa-miR-224-5p</td>\n",
       "      <td>1</td>\n",
       "    </tr>\n",
       "    <tr>\n",
       "      <th>43177</th>\n",
       "      <td>AP1</td>\n",
       "      <td>hsa-miR-144</td>\n",
       "      <td>1</td>\n",
       "    </tr>\n",
       "  </tbody>\n",
       "</table>\n",
       "<p>43178 rows × 3 columns</p>\n",
       "</div>"
      ],
      "text/plain": [
       "       source          target  weight\n",
       "0         MYC            TERT       1\n",
       "1        SPI1           BGLAP       1\n",
       "2       SMAD3             JUN       1\n",
       "3       SMAD4             JUN       1\n",
       "4      STAT5A             IL2       1\n",
       "...       ...             ...     ...\n",
       "43173    NFKB  hsa-miR-143-3p       1\n",
       "43174     AP1     hsa-miR-206       1\n",
       "43175    NFKB   hsa-miR-21-5p       1\n",
       "43176    NFKB  hsa-miR-224-5p       1\n",
       "43177     AP1     hsa-miR-144       1\n",
       "\n",
       "[43178 rows x 3 columns]"
      ]
     },
     "execution_count": 7,
     "metadata": {},
     "output_type": "execute_result"
    }
   ],
   "source": [
    "# Get collectri\n",
    "collectri = dc.get_collectri(organism='human', split_complexes=False)\n",
    "collectri"
   ]
  },
  {
   "cell_type": "markdown",
   "id": "3c906e41",
   "metadata": {},
   "source": [
    "We will run the benchmark pipeline using the top performer methods from `decoupler`. If we would like, we could use any other,\n",
    "and we can optionaly change their parametters too (for more information check the `decouple` function).\n",
    "\n",
    "To run the benchmark pipeline, we need input molecular data (`mat`), its associated metadata (`obs`) with the name of the\n",
    "column where the perturbed regulators are (`perturb`), and which direction the pertrubations are (`sign`, positive or negative)."
   ]
  },
  {
   "cell_type": "code",
   "execution_count": 8,
   "id": "737759f4",
   "metadata": {
    "tags": []
   },
   "outputs": [
    {
     "name": "stdout",
     "output_type": "stream",
     "text": [
      "Extracting inputs...\n",
      "Formating net...\n",
      "109 experiments without sources in net, they will be removed.\n",
      "Running methods...\n",
      "52 features of mat are empty, they will be removed.\n",
      "Running wsum on mat with 279 samples and 21933 targets for 766 sources.\n",
      "Infering activities on 1 batches.\n"
     ]
    },
    {
     "name": "stderr",
     "output_type": "stream",
     "text": [
      "100%|███████████████████████████████████████████████████████████████████████████████████████████████████████████████████████████| 1/1 [00:17<00:00, 17.22s/it]\n"
     ]
    },
    {
     "name": "stdout",
     "output_type": "stream",
     "text": [
      "52 features of mat are empty, they will be removed.\n",
      "Running ulm on mat with 279 samples and 21933 targets for 766 sources.\n",
      "52 features of mat are empty, they will be removed.\n",
      "Running mlm on mat with 279 samples and 21933 targets for 766 sources.\n"
     ]
    },
    {
     "name": "stderr",
     "output_type": "stream",
     "text": [
      "100%|███████████████████████████████████████████████████████████████████████████████████████████████████████████████████████████| 1/1 [00:02<00:00,  2.33s/it]\n"
     ]
    },
    {
     "name": "stdout",
     "output_type": "stream",
     "text": [
      "Calculating metrics...\n",
      "Computing metrics...\n",
      "Done.\n"
     ]
    }
   ],
   "source": [
    "# Example on how to set up decouple arguments\n",
    "decouple_kws={\n",
    "    'methods' : ['wsum', 'ulm', 'mlm'],\n",
    "    'consensus': True,\n",
    "    'args' : {\n",
    "        'wsum' : {'times': 100}\n",
    "    }\n",
    "}\n",
    "\n",
    "# Run benchmark pipeline\n",
    "df = dc.benchmark(mat, obs, collectri, perturb='TF', sign=-1, verbose=True, decouple_kws=decouple_kws)"
   ]
  },
  {
   "cell_type": "markdown",
   "id": "4d0c141a",
   "metadata": {},
   "source": [
    "The result of running the pipeline is a long-format dataframe containing different performance metrics across methods:\n",
    "\n",
    "- `auroc`: Area Under the Receiver Operating characteristic Curve (AUROC)\n",
    "- `auprc`: Area Under the Precision-Recall Curve (AUPRC), which by default uses a calibrated version where 0.5 indicates a random classifier (adapted from [this publication](https://doi.org/10.1007/978-3-030-44584-3_36)).\n",
    "- `mauroc`: Monte-Carlo Area Under the Precision-Recall Curve (AUPRC)\n",
    "- `mauprc`: Monte-Carlo Area Under the Receiver Operating characteristic Curve (AUROC)\n",
    "\n",
    "The Monte-Carlo metrics perform random permutations where each one samples the same number of true positives and true negatives to have balanced sets, returning one value per iteration done (10k by default)."
   ]
  },
  {
   "cell_type": "code",
   "execution_count": 9,
   "id": "1c98ebbd-db48-47e2-8cb2-1721692ccbeb",
   "metadata": {
    "tags": []
   },
   "outputs": [
    {
     "data": {
      "text/html": [
       "<div>\n",
       "<style scoped>\n",
       "    .dataframe tbody tr th:only-of-type {\n",
       "        vertical-align: middle;\n",
       "    }\n",
       "\n",
       "    .dataframe tbody tr th {\n",
       "        vertical-align: top;\n",
       "    }\n",
       "\n",
       "    .dataframe thead th {\n",
       "        text-align: right;\n",
       "    }\n",
       "</style>\n",
       "<table border=\"1\" class=\"dataframe\">\n",
       "  <thead>\n",
       "    <tr style=\"text-align: right;\">\n",
       "      <th></th>\n",
       "      <th>groupby</th>\n",
       "      <th>group</th>\n",
       "      <th>source</th>\n",
       "      <th>method</th>\n",
       "      <th>metric</th>\n",
       "      <th>score</th>\n",
       "      <th>ci</th>\n",
       "    </tr>\n",
       "  </thead>\n",
       "  <tbody>\n",
       "    <tr>\n",
       "      <th>0</th>\n",
       "      <td>None</td>\n",
       "      <td>None</td>\n",
       "      <td>None</td>\n",
       "      <td>wsum_estimate</td>\n",
       "      <td>auroc</td>\n",
       "      <td>0.709890</td>\n",
       "      <td>0.001305</td>\n",
       "    </tr>\n",
       "    <tr>\n",
       "      <th>1</th>\n",
       "      <td>None</td>\n",
       "      <td>None</td>\n",
       "      <td>None</td>\n",
       "      <td>wsum_estimate</td>\n",
       "      <td>auprc</td>\n",
       "      <td>0.735267</td>\n",
       "      <td>0.001305</td>\n",
       "    </tr>\n",
       "    <tr>\n",
       "      <th>2</th>\n",
       "      <td>None</td>\n",
       "      <td>None</td>\n",
       "      <td>None</td>\n",
       "      <td>wsum_estimate</td>\n",
       "      <td>mcauroc</td>\n",
       "      <td>0.718978</td>\n",
       "      <td>0.001305</td>\n",
       "    </tr>\n",
       "    <tr>\n",
       "      <th>3</th>\n",
       "      <td>None</td>\n",
       "      <td>None</td>\n",
       "      <td>None</td>\n",
       "      <td>wsum_estimate</td>\n",
       "      <td>mcauroc</td>\n",
       "      <td>0.730129</td>\n",
       "      <td>0.001305</td>\n",
       "    </tr>\n",
       "    <tr>\n",
       "      <th>4</th>\n",
       "      <td>None</td>\n",
       "      <td>None</td>\n",
       "      <td>None</td>\n",
       "      <td>wsum_estimate</td>\n",
       "      <td>mcauroc</td>\n",
       "      <td>0.715317</td>\n",
       "      <td>0.001305</td>\n",
       "    </tr>\n",
       "    <tr>\n",
       "      <th>...</th>\n",
       "      <td>...</td>\n",
       "      <td>...</td>\n",
       "      <td>...</td>\n",
       "      <td>...</td>\n",
       "      <td>...</td>\n",
       "      <td>...</td>\n",
       "      <td>...</td>\n",
       "    </tr>\n",
       "    <tr>\n",
       "      <th>12007</th>\n",
       "      <td>None</td>\n",
       "      <td>None</td>\n",
       "      <td>None</td>\n",
       "      <td>consensus_estimate</td>\n",
       "      <td>mcauprc</td>\n",
       "      <td>0.771847</td>\n",
       "      <td>0.001305</td>\n",
       "    </tr>\n",
       "    <tr>\n",
       "      <th>12008</th>\n",
       "      <td>None</td>\n",
       "      <td>None</td>\n",
       "      <td>None</td>\n",
       "      <td>consensus_estimate</td>\n",
       "      <td>mcauprc</td>\n",
       "      <td>0.791121</td>\n",
       "      <td>0.001305</td>\n",
       "    </tr>\n",
       "    <tr>\n",
       "      <th>12009</th>\n",
       "      <td>None</td>\n",
       "      <td>None</td>\n",
       "      <td>None</td>\n",
       "      <td>consensus_estimate</td>\n",
       "      <td>mcauprc</td>\n",
       "      <td>0.768232</td>\n",
       "      <td>0.001305</td>\n",
       "    </tr>\n",
       "    <tr>\n",
       "      <th>12010</th>\n",
       "      <td>None</td>\n",
       "      <td>None</td>\n",
       "      <td>None</td>\n",
       "      <td>consensus_estimate</td>\n",
       "      <td>mcauprc</td>\n",
       "      <td>0.782516</td>\n",
       "      <td>0.001305</td>\n",
       "    </tr>\n",
       "    <tr>\n",
       "      <th>12011</th>\n",
       "      <td>None</td>\n",
       "      <td>None</td>\n",
       "      <td>None</td>\n",
       "      <td>consensus_estimate</td>\n",
       "      <td>mcauprc</td>\n",
       "      <td>0.783199</td>\n",
       "      <td>0.001305</td>\n",
       "    </tr>\n",
       "  </tbody>\n",
       "</table>\n",
       "<p>12012 rows × 7 columns</p>\n",
       "</div>"
      ],
      "text/plain": [
       "      groupby group source              method   metric     score        ci\n",
       "0        None  None   None       wsum_estimate    auroc  0.709890  0.001305\n",
       "1        None  None   None       wsum_estimate    auprc  0.735267  0.001305\n",
       "2        None  None   None       wsum_estimate  mcauroc  0.718978  0.001305\n",
       "3        None  None   None       wsum_estimate  mcauroc  0.730129  0.001305\n",
       "4        None  None   None       wsum_estimate  mcauroc  0.715317  0.001305\n",
       "...       ...   ...    ...                 ...      ...       ...       ...\n",
       "12007    None  None   None  consensus_estimate  mcauprc  0.771847  0.001305\n",
       "12008    None  None   None  consensus_estimate  mcauprc  0.791121  0.001305\n",
       "12009    None  None   None  consensus_estimate  mcauprc  0.768232  0.001305\n",
       "12010    None  None   None  consensus_estimate  mcauprc  0.782516  0.001305\n",
       "12011    None  None   None  consensus_estimate  mcauprc  0.783199  0.001305\n",
       "\n",
       "[12012 rows x 7 columns]"
      ]
     },
     "execution_count": 9,
     "metadata": {},
     "output_type": "execute_result"
    }
   ],
   "source": [
    "df"
   ]
  },
  {
   "cell_type": "markdown",
   "id": "14098ba7",
   "metadata": {},
   "source": [
    "We can easily visualize the results in a scatterplot: "
   ]
  },
  {
   "cell_type": "code",
   "execution_count": 10,
   "id": "d8ad87dd-892a-4787-9cf5-5acd6b8077fb",
   "metadata": {
    "tags": []
   },
   "outputs": [
    {
     "data": {
      "image/png": "[encoded data removed]",
      "text/plain": [
       "<Figure size 500x500 with 1 Axes>"
      ]
     },
     "metadata": {},
     "output_type": "display_data"
    }
   ],
   "source": [
    "dc.plot_metrics_scatter(df, x='mcauroc', y='mcauprc')"
   ]
  },
  {
   "cell_type": "markdown",
   "id": "a9c647ca",
   "metadata": {},
   "source": [
    "It looks like `mlm` this time had worse performance than other methods like `ulm` at recovering\n",
    "perturbed regulators, this might be caused because there are many TFs that share too many targets.\n",
    "Whenever there are multiple sources (TFs) and they share a lot of targets we recommend to use `ulm`.\n",
    "On the other hand, when there are few sources and they are orthogonal (they share few targets), we recommend to use `mlm`.\n",
    "Since `consensus` remains one of the top performer methods we also recommend its use but at a higher computational cost.\n",
    "\n",
    "We can also visualise the distirbutions of the obtained Monte-Carlo metrics, for example `mcauroc`:"
   ]
  },
  {
   "cell_type": "code",
   "execution_count": 11,
   "id": "4447de0f-d6bc-4fc2-8a56-a0a29f27d0c5",
   "metadata": {
    "tags": []
   },
   "outputs": [
    {
     "data": {
      "image/png": "[encoded data removed]",
      "text/plain": [
       "<Figure size 500x500 with 1 Axes>"
      ]
     },
     "metadata": {},
     "output_type": "display_data"
    }
   ],
   "source": [
    "dc.plot_metrics_boxplot(df, metric='mcauroc')"
   ]
  },
  {
   "cell_type": "markdown",
   "id": "11d7c52e",
   "metadata": {},
   "source": [
    "### Multiple networks\n",
    "\n",
    "This pipeline can evaluate multiple networks at the same time. Now we will evaluate CollecTRI and\n",
    "[DoRothEA](https://saezlab.github.io/dorothea/), a literature-based network that we developed in the past.\n",
    "We will also add a randomized version as control."
   ]
  },
  {
   "cell_type": "code",
   "execution_count": 12,
   "id": "a34abe69",
   "metadata": {
    "tags": []
   },
   "outputs": [],
   "source": [
    "# Get dorothea\n",
    "dorothea = dc.get_dorothea(organism='human')\n",
    "\n",
    "# Randomize nets\n",
    "ctri_rand = dc.shuffle_net(collectri, target='target', weight='weight').drop_duplicates(['source', 'target'])\n",
    "doro_rand = dc.shuffle_net(dorothea, target='target', weight='weight').drop_duplicates(['source', 'target'])"
   ]
  },
  {
   "cell_type": "markdown",
   "id": "65089089",
   "metadata": {},
   "source": [
    "We can run the same pipeline but now using a dictionary of networks (and of extra arguments if needed)."
   ]
  },
  {
   "cell_type": "code",
   "execution_count": 13,
   "id": "029d1161",
   "metadata": {
    "tags": []
   },
   "outputs": [
    {
     "name": "stdout",
     "output_type": "stream",
     "text": [
      "Using r_collectri network...\n",
      "Extracting inputs...\n",
      "Formating net...\n",
      "109 experiments without sources in net, they will be removed.\n",
      "Running methods...\n",
      "52 features of mat are empty, they will be removed.\n",
      "Running ulm on mat with 279 samples and 21933 targets for 762 sources.\n",
      "52 features of mat are empty, they will be removed.\n",
      "Running mlm on mat with 279 samples and 21933 targets for 762 sources.\n"
     ]
    },
    {
     "name": "stderr",
     "output_type": "stream",
     "text": [
      "100%|███████████████████████████████████████████████████████████████████████████████████████████████████████████████████████████| 1/1 [00:01<00:00,  1.62s/it]\n"
     ]
    },
    {
     "name": "stdout",
     "output_type": "stream",
     "text": [
      "Calculating metrics...\n",
      "Computing metrics...\n",
      "Done.\n",
      "Using r_dorothea network...\n",
      "Extracting inputs...\n",
      "Formating net...\n",
      "175 experiments without sources in net, they will be removed.\n",
      "Running methods...\n",
      "55 features of mat are empty, they will be removed.\n",
      "Running ulm on mat with 213 samples and 21930 targets for 295 sources.\n",
      "55 features of mat are empty, they will be removed.\n",
      "Running mlm on mat with 213 samples and 21930 targets for 295 sources.\n"
     ]
    },
    {
     "name": "stderr",
     "output_type": "stream",
     "text": [
      "100%|███████████████████████████████████████████████████████████████████████████████████████████████████████████████████████████| 1/1 [00:00<00:00,  2.03it/s]\n"
     ]
    },
    {
     "name": "stdout",
     "output_type": "stream",
     "text": [
      "Calculating metrics...\n",
      "Computing metrics...\n",
      "Done.\n",
      "Using collectri network...\n",
      "Extracting inputs...\n",
      "Formating net...\n",
      "109 experiments without sources in net, they will be removed.\n",
      "Running methods...\n",
      "52 features of mat are empty, they will be removed.\n",
      "Running ulm on mat with 279 samples and 21933 targets for 766 sources.\n",
      "52 features of mat are empty, they will be removed.\n",
      "Running mlm on mat with 279 samples and 21933 targets for 766 sources.\n"
     ]
    },
    {
     "name": "stderr",
     "output_type": "stream",
     "text": [
      "100%|███████████████████████████████████████████████████████████████████████████████████████████████████████████████████████████| 1/1 [00:01<00:00,  1.49s/it]\n"
     ]
    },
    {
     "name": "stdout",
     "output_type": "stream",
     "text": [
      "Calculating metrics...\n",
      "Computing metrics...\n",
      "Done.\n",
      "Using dorothea network...\n",
      "Extracting inputs...\n",
      "Formating net...\n",
      "174 experiments without sources in net, they will be removed.\n",
      "Running methods...\n",
      "55 features of mat are empty, they will be removed.\n",
      "Running ulm on mat with 214 samples and 21930 targets for 297 sources.\n",
      "55 features of mat are empty, they will be removed.\n",
      "Running mlm on mat with 214 samples and 21930 targets for 297 sources.\n"
     ]
    },
    {
     "name": "stderr",
     "output_type": "stream",
     "text": [
      "100%|███████████████████████████████████████████████████████████████████████████████████████████████████████████████████████████| 1/1 [00:00<00:00,  1.50it/s]"
     ]
    },
    {
     "name": "stdout",
     "output_type": "stream",
     "text": [
      "Calculating metrics...\n",
      "Computing metrics...\n",
      "Done.\n"
     ]
    },
    {
     "name": "stderr",
     "output_type": "stream",
     "text": [
      "\n"
     ]
    }
   ],
   "source": [
    "# Build dictionary of networks to test\n",
    "nets = {\n",
    "    'r_collectri': ctri_rand,\n",
    "    'r_dorothea': doro_rand,\n",
    "    'collectri': collectri,\n",
    "    'dorothea': dorothea,\n",
    "}\n",
    "\n",
    "# Example extra arguments\n",
    "decouple_kws = {\n",
    "    'r_collectri': {\n",
    "        'methods' : ['ulm', 'mlm'],\n",
    "        'consensus': True\n",
    "    },\n",
    "    'r_dorothea': {\n",
    "        'methods' : ['ulm', 'mlm'],\n",
    "        'consensus': True\n",
    "    },\n",
    "    'collectri': {\n",
    "        'methods' : ['ulm', 'mlm'],\n",
    "        'consensus': True\n",
    "    },\n",
    "    'dorothea': {\n",
    "        'methods' : ['ulm', 'mlm'],\n",
    "        'consensus': True\n",
    "    }\n",
    "}\n",
    "\n",
    "# Run benchmark pipeline\n",
    "df = dc.benchmark(mat, obs, nets, perturb='TF', sign=-1, verbose=True, decouple_kws=decouple_kws)"
   ]
  },
  {
   "cell_type": "markdown",
   "id": "1c37c44e",
   "metadata": {},
   "source": [
    "Like before we can try to visualize the results in a scatterplot, this time grouping by the network used:"
   ]
  },
  {
   "cell_type": "code",
   "execution_count": 14,
   "id": "adb64864-b4b8-49a3-8f78-d170cf6ae050",
   "metadata": {
    "tags": []
   },
   "outputs": [
    {
     "data": {
      "image/png": "[encoded data removed]",
      "text/plain": [
       "<Figure size 500x500 with 1 Axes>"
      ]
     },
     "metadata": {},
     "output_type": "display_data"
    }
   ],
   "source": [
    "dc.plot_metrics_scatter(df, groupby='net', x='mcauroc', y='mcauprc')"
   ]
  },
  {
   "cell_type": "markdown",
   "id": "68d852c7",
   "metadata": {},
   "source": [
    "Since this plot is too crowded, we can plot it again separating the methods by columns:"
   ]
  },
  {
   "cell_type": "code",
   "execution_count": 15,
   "id": "1a446ffd",
   "metadata": {
    "tags": []
   },
   "outputs": [
    {
     "data": {
      "image/png": "[encoded data removed]",
      "text/plain": [
       "<Figure size 900x500 with 4 Axes>"
      ]
     },
     "metadata": {},
     "output_type": "display_data"
    }
   ],
   "source": [
    "dc.plot_metrics_scatter_cols(df, col='method', figsize=(9, 5), groupby='net')"
   ]
  },
  {
   "cell_type": "markdown",
   "id": "9a71056c",
   "metadata": {},
   "source": [
    "Or by selecting only one of the methods, in this case `consensus` since it is the most reliable method:"
   ]
  },
  {
   "cell_type": "code",
   "execution_count": 16,
   "id": "b1851c3e",
   "metadata": {
    "tags": []
   },
   "outputs": [
    {
     "data": {
      "image/png": "[encoded data removed]",
      "text/plain": [
       "<Figure size 500x500 with 1 Axes>"
      ]
     },
     "metadata": {},
     "output_type": "display_data"
    }
   ],
   "source": [
    "dc.plot_metrics_scatter(df[df['method'] == 'consensus_estimate'], groupby='net', x='mcauroc', y='mcauprc', show_text=False)"
   ]
  },
  {
   "cell_type": "markdown",
   "id": "16dc3380",
   "metadata": {},
   "source": [
    "As expected, the random network has a performance close to 0.5 while the rest show higher predictive performance. As previously reported, the collectri network has better performance than dorothea.\n",
    "\n",
    "If needed, we can also plot the distributions of the Monte-Carlo metrics, now grouped by network:"
   ]
  },
  {
   "cell_type": "code",
   "execution_count": 17,
   "id": "36aedb27",
   "metadata": {
    "tags": []
   },
   "outputs": [
    {
     "data": {
      "image/png": "[encoded data removed]",
      "text/plain": [
       "<Figure size 500x500 with 1 Axes>"
      ]
     },
     "metadata": {},
     "output_type": "display_data"
    }
   ],
   "source": [
    "dc.plot_metrics_boxplot(df, metric='mcauroc', groupby='net')"
   ]
  },
  {
   "cell_type": "markdown",
   "id": "8ccaa001",
   "metadata": {},
   "source": [
    "### By source\n",
    "\n",
    "The benchmark pipeline also allows to test the performance of individual regulators using the argument `by='source'`. For simplicity let us just use the best performing network:"
   ]
  },
  {
   "cell_type": "code",
   "execution_count": 18,
   "id": "389c20fb",
   "metadata": {
    "tags": []
   },
   "outputs": [
    {
     "name": "stdout",
     "output_type": "stream",
     "text": [
      "Extracting inputs...\n",
      "Formating net...\n",
      "109 experiments without sources in net, they will be removed.\n",
      "Running methods...\n",
      "52 features of mat are empty, they will be removed.\n",
      "Running ulm on mat with 279 samples and 21933 targets for 766 sources.\n",
      "52 features of mat are empty, they will be removed.\n",
      "Running mlm on mat with 279 samples and 21933 targets for 766 sources.\n"
     ]
    },
    {
     "name": "stderr",
     "output_type": "stream",
     "text": [
      "100%|███████████████████████████████████████████████████████████████████████████████████████████████████████████████████████████| 1/1 [00:01<00:00,  1.55s/it]\n"
     ]
    },
    {
     "name": "stdout",
     "output_type": "stream",
     "text": [
      "Calculating metrics...\n",
      "Computing metrics...\n",
      "Done.\n"
     ]
    }
   ],
   "source": [
    "# Example on how to set up decouple arguments\n",
    "decouple_kws={\n",
    "    'methods' : ['ulm', 'mlm'],\n",
    "    'consensus': True,\n",
    "}\n",
    "\n",
    "# Run benchmark pipeline\n",
    "df = dc.benchmark(mat, obs, collectri, perturb='TF', sign=-1, by='source', verbose=True, decouple_kws=decouple_kws)"
   ]
  },
  {
   "cell_type": "markdown",
   "id": "21a76e8b",
   "metadata": {},
   "source": [
    "We can plot the results with:"
   ]
  },
  {
   "cell_type": "code",
   "execution_count": 19,
   "id": "d3ff2d43",
   "metadata": {
    "tags": []
   },
   "outputs": [
    {
     "data": {
      "image/png": "[encoded data removed]",
      "text/plain": [
       "<Figure size 900x500 with 12 Axes>"
      ]
     },
     "metadata": {},
     "output_type": "display_data"
    }
   ],
   "source": [
    "dc.plot_metrics_scatter_cols(df, col='source', figsize=(9, 5), groupby='method')"
   ]
  },
  {
   "cell_type": "markdown",
   "id": "6fc4336d",
   "metadata": {},
   "source": [
    "It looks like we get good predictions for HIF1A, RELA and SOX2 among others. On the other side, we worse predictions for STAT1."
   ]
  },
  {
   "cell_type": "markdown",
   "id": "3b3e1bbe",
   "metadata": {},
   "source": [
    "### By meta-data groups\n",
    "\n",
    "The benchmarking pipeline can also be run by grouping the input experiments using the `groupby` argument. Multiple groups can be selected at the same time but for simplicity, we will just test which knockout method seems to perform the best inhibitions:"
   ]
  },
  {
   "cell_type": "code",
   "execution_count": 20,
   "id": "0ad8a428",
   "metadata": {
    "tags": []
   },
   "outputs": [
    {
     "name": "stdout",
     "output_type": "stream",
     "text": [
      "Extracting inputs...\n",
      "Formating net...\n",
      "109 experiments without sources in net, they will be removed.\n",
      "Running methods...\n",
      "52 features of mat are empty, they will be removed.\n",
      "Running ulm on mat with 279 samples and 21933 targets for 766 sources.\n",
      "52 features of mat are empty, they will be removed.\n",
      "Running mlm on mat with 279 samples and 21933 targets for 766 sources.\n"
     ]
    },
    {
     "name": "stderr",
     "output_type": "stream",
     "text": [
      "100%|███████████████████████████████████████████████████████████████████████████████████████████████████████████████████████████| 1/1 [00:01<00:00,  1.39s/it]\n"
     ]
    },
    {
     "name": "stdout",
     "output_type": "stream",
     "text": [
      "Calculating metrics...\n",
      "Computing metrics for groupby Knock.Method...\n",
      "Done.\n"
     ]
    }
   ],
   "source": [
    "# Example on how to set up decouple arguments\n",
    "decouple_kws={\n",
    "    'methods' : ['ulm', 'mlm'],\n",
    "    'consensus': True,\n",
    "}\n",
    "\n",
    "# Run benchmark pipeline\n",
    "df = dc.benchmark(mat, obs, collectri, perturb='TF', sign=-1, groupby='Knock.Method', verbose=True, decouple_kws=decouple_kws)"
   ]
  },
  {
   "cell_type": "markdown",
   "id": "82448007",
   "metadata": {},
   "source": [
    "Again, we can visualize the results in a collection of scatterplots:"
   ]
  },
  {
   "cell_type": "code",
   "execution_count": 21,
   "id": "80030b93",
   "metadata": {
    "tags": []
   },
   "outputs": [
    {
     "data": {
      "image/png": "[encoded data removed]",
      "text/plain": [
       "<Figure size 900x500 with 4 Axes>"
      ]
     },
     "metadata": {},
     "output_type": "display_data"
    }
   ],
   "source": [
    "dc.plot_metrics_scatter_cols(df, col='method', figsize=(9, 5), groupby='group')"
   ]
  },
  {
   "cell_type": "markdown",
   "id": "6f2f04d5",
   "metadata": {},
   "source": [
    "From our limited data-set, we can see that apparently shRNA works better than other knockout protocols."
   ]
  }
 ],
 "metadata": {
  "kernelspec": {
   "display_name": "dcp39",
   "language": "python",
   "name": "dcp39"
  },
  "language_info": {
   "codemirror_mode": {
    "name": "ipython",
    "version": 3
   },
   "file_extension": ".py",
   "mimetype": "text/x-python",
   "name": "python",
   "nbconvert_exporter": "python",
   "pygments_lexer": "ipython3",
   "version": "3.9.15"
  }
 },
 "nbformat": 4,
 "nbformat_minor": 5
}
