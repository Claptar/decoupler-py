{
 "cells": [
  {
   "cell_type": "markdown",
   "id": "5bc4c7f6-b861-45bd-99a7-c8ec26f7426b",
   "metadata": {},
   "source": [
    "# Usage\n",
    "\n",
    "`decoupler` contains different statistical methods to extract biological activities from omics data using prior knowledge. In this notebook we showcase how to use it with some toy data."
   ]
  },
  {
   "cell_type": "markdown",
   "id": "207dffcc-3692-496f-b1eb-7387f366aac5",
   "metadata": {},
   "source": [
    "<div class=\"alert alert-info\">\n",
    "\n",
    "**Note**\n",
    "    \n",
    "In Jupyter notebooks and lab, you can see the documentation for a python function by hitting `SHIFT + TAB`, hit it twice to expand the view, or by typing `?name_of_function`.\n",
    "\n",
    "</div>  "
   ]
  },
  {
   "cell_type": "markdown",
   "id": "166e9fc6-1255-4176-a050-9cadbc5c348d",
   "metadata": {},
   "source": [
    "## Loading packages\n",
    "\n",
    "decoupleR can be imported as:"
   ]
  },
  {
   "cell_type": "code",
   "execution_count": 1,
   "id": "4ffe6b9b-e4ac-4072-a3f0-11264012d493",
   "metadata": {},
   "outputs": [],
   "source": [
    "import decoupler as dc\n",
    "\n",
    "# Only needed for visualization:\n",
    "import matplotlib.pyplot as plt\n",
    "import seaborn as sns"
   ]
  },
  {
   "cell_type": "markdown",
   "id": "f8d46073-a5c4-41b7-8693-029b9cace80a",
   "metadata": {},
   "source": [
    "<div class=\"alert alert-info\">\n",
    "\n",
    "**Note**\n",
    "    \n",
    "The first time `decoupler` is imported in an enviroment can be slow. This is due to numba compiling its source code. After the first usage it will be stored in cache, making the import time normal again.\n",
    "\n",
    "</div>  "
   ]
  },
  {
   "cell_type": "markdown",
   "id": "e3fc1e20-0ce0-41f8-bdea-d4eb6408d105",
   "metadata": {},
   "source": [
    "## Loading toy data\n",
    "\n",
    "`decoupler` needs a matrix (`mat`) of molecular readouts (gene expression, logFC, p-values, etc.) and a network (`net`) that relates target features (genes, proteins, etc.) to 'source' biological entities (pathways, transcription factors, molecular processes, etc.).\n",
    "\n",
    "To load the example data-set, simply run:"
   ]
  },
  {
   "cell_type": "code",
   "execution_count": 2,
   "id": "c9ed553c-5314-49d1-9554-fa0f3536dd28",
   "metadata": {},
   "outputs": [],
   "source": [
    "mat, net = dc.get_toy_data()"
   ]
  },
  {
   "cell_type": "markdown",
   "id": "cf6ee382-2c1e-4f5f-ad4b-dac7d9f7aae2",
   "metadata": {},
   "source": [
    "This example consists of two small populations of samples (S, rows) with different gene expression patterns (G, columns):"
   ]
  },
  {
   "cell_type": "code",
   "execution_count": 3,
   "id": "8c33ac19-15c6-4725-9f5a-f12bd5d6720c",
   "metadata": {},
   "outputs": [
    {
     "data": {
      "image/png": "[encoded data removed]",
      "text/plain": [
       "<Figure size 432x288 with 2 Axes>"
      ]
     },
     "metadata": {
      "needs_background": "light"
     },
     "output_type": "display_data"
    }
   ],
   "source": [
    "sns.heatmap(mat, cmap='viridis')\n",
    "plt.show()"
   ]
  },
  {
   "cell_type": "markdown",
   "id": "df79d354-e05f-49b3-aee1-47fec4d5f7ac",
   "metadata": {},
   "source": [
    "Here we can see that some genes seem to be more expressed in one group of samples than in the other and vice-versa. Ideally, we would like to capture these differences in gene programs into interpretable biological entities. In this example we will do it by summarizing these differences in expression into transcription factor activities."
   ]
  },
  {
   "cell_type": "markdown",
   "id": "8da1021e-a264-48ee-8537-55be40d30ae3",
   "metadata": {},
   "source": [
    "The toy data also contains a simple `net` consiting of 3 transcription factors (Ts) with specific regultion to target genes (either positive or negative):"
   ]
  },
  {
   "cell_type": "code",
   "execution_count": 4,
   "id": "eb8f4aec-7dda-4fd5-9573-4848d291f8b9",
   "metadata": {},
   "outputs": [
    {
     "data": {
      "text/html": [
       "<div>\n",
       "<style scoped>\n",
       "    .dataframe tbody tr th:only-of-type {\n",
       "        vertical-align: middle;\n",
       "    }\n",
       "\n",
       "    .dataframe tbody tr th {\n",
       "        vertical-align: top;\n",
       "    }\n",
       "\n",
       "    .dataframe thead th {\n",
       "        text-align: right;\n",
       "    }\n",
       "</style>\n",
       "<table border=\"1\" class=\"dataframe\">\n",
       "  <thead>\n",
       "    <tr style=\"text-align: right;\">\n",
       "      <th></th>\n",
       "      <th>source</th>\n",
       "      <th>target</th>\n",
       "      <th>weight</th>\n",
       "    </tr>\n",
       "  </thead>\n",
       "  <tbody>\n",
       "    <tr>\n",
       "      <th>0</th>\n",
       "      <td>T1</td>\n",
       "      <td>G01</td>\n",
       "      <td>1.0</td>\n",
       "    </tr>\n",
       "    <tr>\n",
       "      <th>1</th>\n",
       "      <td>T1</td>\n",
       "      <td>G02</td>\n",
       "      <td>1.0</td>\n",
       "    </tr>\n",
       "    <tr>\n",
       "      <th>2</th>\n",
       "      <td>T1</td>\n",
       "      <td>G03</td>\n",
       "      <td>0.7</td>\n",
       "    </tr>\n",
       "    <tr>\n",
       "      <th>3</th>\n",
       "      <td>T2</td>\n",
       "      <td>G06</td>\n",
       "      <td>1.0</td>\n",
       "    </tr>\n",
       "    <tr>\n",
       "      <th>4</th>\n",
       "      <td>T2</td>\n",
       "      <td>G07</td>\n",
       "      <td>0.5</td>\n",
       "    </tr>\n",
       "    <tr>\n",
       "      <th>5</th>\n",
       "      <td>T2</td>\n",
       "      <td>G08</td>\n",
       "      <td>1.0</td>\n",
       "    </tr>\n",
       "    <tr>\n",
       "      <th>6</th>\n",
       "      <td>T3</td>\n",
       "      <td>G06</td>\n",
       "      <td>-0.5</td>\n",
       "    </tr>\n",
       "    <tr>\n",
       "      <th>7</th>\n",
       "      <td>T3</td>\n",
       "      <td>G07</td>\n",
       "      <td>-3.0</td>\n",
       "    </tr>\n",
       "    <tr>\n",
       "      <th>8</th>\n",
       "      <td>T3</td>\n",
       "      <td>G08</td>\n",
       "      <td>-1.0</td>\n",
       "    </tr>\n",
       "    <tr>\n",
       "      <th>9</th>\n",
       "      <td>T3</td>\n",
       "      <td>G11</td>\n",
       "      <td>1.0</td>\n",
       "    </tr>\n",
       "  </tbody>\n",
       "</table>\n",
       "</div>"
      ],
      "text/plain": [
       "  source target  weight\n",
       "0     T1    G01     1.0\n",
       "1     T1    G02     1.0\n",
       "2     T1    G03     0.7\n",
       "3     T2    G06     1.0\n",
       "4     T2    G07     0.5\n",
       "5     T2    G08     1.0\n",
       "6     T3    G06    -0.5\n",
       "7     T3    G07    -3.0\n",
       "8     T3    G08    -1.0\n",
       "9     T3    G11     1.0"
      ]
     },
     "execution_count": 4,
     "metadata": {},
     "output_type": "execute_result"
    }
   ],
   "source": [
    "net"
   ]
  },
  {
   "cell_type": "markdown",
   "id": "0e740d32-e08b-4daf-98a1-3c8266858762",
   "metadata": {},
   "source": [
    "This network can be visualized like a graph. Green edges are positive regulation (activation), red edges are negative regulation (inactivation):\n",
    "\n",
    "![net_logo](../net_plot.png)"
   ]
  },
  {
   "cell_type": "markdown",
   "id": "636de684-c374-4374-832a-438602e893df",
   "metadata": {},
   "source": [
    "## Methods\n",
    "\n",
    "`decoupler` contains several methods. To check how many are available, run:"
   ]
  },
  {
   "cell_type": "code",
   "execution_count": 5,
   "id": "b7be778b-2f0e-4287-a551-6b8dab34c98f",
   "metadata": {},
   "outputs": [
    {
     "data": {
      "text/html": [
       "<div>\n",
       "<style scoped>\n",
       "    .dataframe tbody tr th:only-of-type {\n",
       "        vertical-align: middle;\n",
       "    }\n",
       "\n",
       "    .dataframe tbody tr th {\n",
       "        vertical-align: top;\n",
       "    }\n",
       "\n",
       "    .dataframe thead th {\n",
       "        text-align: right;\n",
       "    }\n",
       "</style>\n",
       "<table border=\"1\" class=\"dataframe\">\n",
       "  <thead>\n",
       "    <tr style=\"text-align: right;\">\n",
       "      <th></th>\n",
       "      <th>Function</th>\n",
       "      <th>Name</th>\n",
       "    </tr>\n",
       "  </thead>\n",
       "  <tbody>\n",
       "    <tr>\n",
       "      <th>0</th>\n",
       "      <td>run_aucell</td>\n",
       "      <td>AUCell.</td>\n",
       "    </tr>\n",
       "    <tr>\n",
       "      <th>1</th>\n",
       "      <td>run_consensus</td>\n",
       "      <td>Consensus.</td>\n",
       "    </tr>\n",
       "    <tr>\n",
       "      <th>2</th>\n",
       "      <td>run_gsea</td>\n",
       "      <td>Gene Set Enrichment Analysis (GSEA).</td>\n",
       "    </tr>\n",
       "    <tr>\n",
       "      <th>3</th>\n",
       "      <td>run_gsva</td>\n",
       "      <td>Gene Set Variation Analysis (GSVA).</td>\n",
       "    </tr>\n",
       "    <tr>\n",
       "      <th>4</th>\n",
       "      <td>run_mdt</td>\n",
       "      <td>Multivariate Decision Tree (MDT).</td>\n",
       "    </tr>\n",
       "    <tr>\n",
       "      <th>5</th>\n",
       "      <td>run_mlm</td>\n",
       "      <td>Multivariate Linear Model (MLM).</td>\n",
       "    </tr>\n",
       "    <tr>\n",
       "      <th>6</th>\n",
       "      <td>run_ora</td>\n",
       "      <td>Over Representation Analysis (ORA).</td>\n",
       "    </tr>\n",
       "    <tr>\n",
       "      <th>7</th>\n",
       "      <td>run_udt</td>\n",
       "      <td>Univariate Decision Tree (UDT).</td>\n",
       "    </tr>\n",
       "    <tr>\n",
       "      <th>8</th>\n",
       "      <td>run_ulm</td>\n",
       "      <td>Univariate Linear Model (ULM).</td>\n",
       "    </tr>\n",
       "    <tr>\n",
       "      <th>9</th>\n",
       "      <td>run_viper</td>\n",
       "      <td>Virtual Inference of Protein-activity by Enric...</td>\n",
       "    </tr>\n",
       "    <tr>\n",
       "      <th>10</th>\n",
       "      <td>run_wmean</td>\n",
       "      <td>Weighted mean (WMEAN).</td>\n",
       "    </tr>\n",
       "    <tr>\n",
       "      <th>11</th>\n",
       "      <td>run_wsum</td>\n",
       "      <td>Weighted sum (WSUM).</td>\n",
       "    </tr>\n",
       "  </tbody>\n",
       "</table>\n",
       "</div>"
      ],
      "text/plain": [
       "         Function                                               Name\n",
       "0      run_aucell                                            AUCell.\n",
       "1   run_consensus                                         Consensus.\n",
       "2        run_gsea               Gene Set Enrichment Analysis (GSEA).\n",
       "3        run_gsva                Gene Set Variation Analysis (GSVA).\n",
       "4         run_mdt                  Multivariate Decision Tree (MDT).\n",
       "5         run_mlm                   Multivariate Linear Model (MLM).\n",
       "6         run_ora                Over Representation Analysis (ORA).\n",
       "7         run_udt                    Univariate Decision Tree (UDT).\n",
       "8         run_ulm                     Univariate Linear Model (ULM).\n",
       "9       run_viper  Virtual Inference of Protein-activity by Enric...\n",
       "10      run_wmean                             Weighted mean (WMEAN).\n",
       "11       run_wsum                               Weighted sum (WSUM)."
      ]
     },
     "execution_count": 5,
     "metadata": {},
     "output_type": "execute_result"
    }
   ],
   "source": [
    "dc.show_methods()"
   ]
  },
  {
   "cell_type": "markdown",
   "id": "c84c44ac-f8a8-4516-8b97-c49839d9262b",
   "metadata": {},
   "source": [
    "Each method models biological activities in a different manner, sometimes returning more than one estimate or providing significance of the estimation. To know what each method returns, please check their documentation. Here is `gsea`'s:"
   ]
  },
  {
   "cell_type": "code",
   "execution_count": 6,
   "id": "3ea17624-8623-4b30-b2d9-f09667886719",
   "metadata": {},
   "outputs": [
    {
     "data": {
      "text/plain": [
       "\u001b[0;31mSignature:\u001b[0m\n",
       "\u001b[0mdc\u001b[0m\u001b[0;34m.\u001b[0m\u001b[0mrun_gsea\u001b[0m\u001b[0;34m(\u001b[0m\u001b[0;34m\u001b[0m\n",
       "\u001b[0;34m\u001b[0m    \u001b[0mmat\u001b[0m\u001b[0;34m,\u001b[0m\u001b[0;34m\u001b[0m\n",
       "\u001b[0;34m\u001b[0m    \u001b[0mnet\u001b[0m\u001b[0;34m,\u001b[0m\u001b[0;34m\u001b[0m\n",
       "\u001b[0;34m\u001b[0m    \u001b[0msource\u001b[0m\u001b[0;34m=\u001b[0m\u001b[0;34m'source'\u001b[0m\u001b[0;34m,\u001b[0m\u001b[0;34m\u001b[0m\n",
       "\u001b[0;34m\u001b[0m    \u001b[0mtarget\u001b[0m\u001b[0;34m=\u001b[0m\u001b[0;34m'target'\u001b[0m\u001b[0;34m,\u001b[0m\u001b[0;34m\u001b[0m\n",
       "\u001b[0;34m\u001b[0m    \u001b[0mweight\u001b[0m\u001b[0;34m=\u001b[0m\u001b[0;34m'weight'\u001b[0m\u001b[0;34m,\u001b[0m\u001b[0;34m\u001b[0m\n",
       "\u001b[0;34m\u001b[0m    \u001b[0mtimes\u001b[0m\u001b[0;34m=\u001b[0m\u001b[0;36m10\u001b[0m\u001b[0;34m,\u001b[0m\u001b[0;34m\u001b[0m\n",
       "\u001b[0;34m\u001b[0m    \u001b[0mmin_n\u001b[0m\u001b[0;34m=\u001b[0m\u001b[0;36m5\u001b[0m\u001b[0;34m,\u001b[0m\u001b[0;34m\u001b[0m\n",
       "\u001b[0;34m\u001b[0m    \u001b[0mseed\u001b[0m\u001b[0;34m=\u001b[0m\u001b[0;36m42\u001b[0m\u001b[0;34m,\u001b[0m\u001b[0;34m\u001b[0m\n",
       "\u001b[0;34m\u001b[0m    \u001b[0mverbose\u001b[0m\u001b[0;34m=\u001b[0m\u001b[0;32mFalse\u001b[0m\u001b[0;34m,\u001b[0m\u001b[0;34m\u001b[0m\n",
       "\u001b[0;34m\u001b[0m    \u001b[0muse_raw\u001b[0m\u001b[0;34m=\u001b[0m\u001b[0;32mTrue\u001b[0m\u001b[0;34m,\u001b[0m\u001b[0;34m\u001b[0m\n",
       "\u001b[0;34m\u001b[0m\u001b[0;34m)\u001b[0m\u001b[0;34m\u001b[0m\u001b[0;34m\u001b[0m\u001b[0m\n",
       "\u001b[0;31mDocstring:\u001b[0m\n",
       "Gene Set Enrichment Analysis (GSEA).\n",
       "\n",
       "Wrapper to run GSEA.\n",
       "\n",
       "Parameters\n",
       "----------\n",
       "mat : list, pd.DataFrame or AnnData\n",
       "    List of [features, matrix], dataframe (samples x features) or an AnnData\n",
       "    instance.\n",
       "net : pd.DataFrame\n",
       "    Network in long format.\n",
       "source : str\n",
       "    Column name in net with source nodes.\n",
       "target : str\n",
       "    Column name in net with target nodes.\n",
       "weight : str\n",
       "    Column name in net with weights.\n",
       "times : int\n",
       "    How many random permutations to do.\n",
       "min_n : int\n",
       "    Minimum of targets per source. If less, sources are removed.\n",
       "seed : int\n",
       "    Random seed to use.\n",
       "verbose : bool\n",
       "    Whether to show progress.\n",
       "use_raw : bool\n",
       "    Use raw attribute of mat if present.\n",
       "\n",
       "Returns\n",
       "-------\n",
       "Returns gsea, norm_gsea activity estimates and p-values or stores\n",
       "them in `mat.obsm['gsea_estimate']`, `mat.obsm['gsea_norm']`, and \n",
       "`mat.obsm['gsea_pvals']`.\n",
       "\u001b[0;31mFile:\u001b[0m      ~/miniconda3/envs/decoupler/lib/python3.8/site-packages/decoupler/method_gsea.py\n",
       "\u001b[0;31mType:\u001b[0m      function\n"
      ]
     },
     "metadata": {},
     "output_type": "display_data"
    }
   ],
   "source": [
    "?dc.run_gsea"
   ]
  },
  {
   "cell_type": "markdown",
   "id": "83a30925-1f19-4a69-bae7-af5bbcc55faf",
   "metadata": {},
   "source": [
    "To have a unified framework, all methods inside `decoupler` have these shared arguments:\n",
    "\n",
    "* `mat` : input matrix of molecular readouts.\n",
    "* `net` : input prior knowledge information relating molecular features to biological entities.\n",
    "* `source`,`target` and `weight` : column names where to extract the information from the `net` object. \n",
    "    * `source` refers to the biological entities.\n",
    "    * `target` refers to the molecular features.\n",
    "    * `weight` refers to the 'strength' of the interaction (if available, else 1s will be used).\n",
    "* `min_n` : Minimum of target features per biological entity (5 by default). If less, sources are removed. This filtering prevents obtaining noisy activities from biological entities with very few matching target features in `mat`.\n",
    "* `verbose` : Whether to show progress.\n",
    "* `use_raw` : When the input is an `AnnData` object, whether to use the data stored in it's `.raw` atribute or not (`True` by default)."
   ]
  },
  {
   "cell_type": "markdown",
   "id": "73ee401f-2f10-48c1-bda6-8d76eee30486",
   "metadata": {},
   "source": [
    "## Running methods\n",
    "\n",
    "### Individual methods\n",
    "\n",
    "As an example, let's first run the Gene Set Enrichment Analysis method (`gsea`), one of the most well-known statistics:"
   ]
  },
  {
   "cell_type": "code",
   "execution_count": 7,
   "id": "09d8dade-b64a-4d87-9de9-de9b447d3820",
   "metadata": {},
   "outputs": [],
   "source": [
    "# For this toy data, we need to set min_n to 0 (otherwise it is better to keep at 5):\n",
    "acts, norm_acts, pvals = dc.run_gsea(mat, net, min_n=0, times=100)"
   ]
  },
  {
   "cell_type": "markdown",
   "id": "b496dde9-1fb8-446f-9026-2f1b7ca8d8bc",
   "metadata": {},
   "source": [
    "In the case of `gsea`, it returns a simple estimate of activities (`acts`), a normalised estimate (`norm_acts`) and `pvals` data-frames after doing permutations."
   ]
  },
  {
   "cell_type": "markdown",
   "id": "0aa9d6ee-c731-4f33-be09-feb487610f45",
   "metadata": {},
   "source": [
    "<div class=\"alert alert-info\">\n",
    "\n",
    "**Note**\n",
    "    \n",
    "If `mat` is an `AnnData` instance, results will be saved in its `.obsm` attribute.\n",
    "\n",
    "</div>  "
   ]
  },
  {
   "cell_type": "markdown",
   "id": "5159a3cd-fee4-4f36-b33d-c97060fb6766",
   "metadata": {},
   "source": [
    "Let us plot the obtained results:"
   ]
  },
  {
   "cell_type": "code",
   "execution_count": 8,
   "id": "4b4a7ff6-2433-4ff4-825e-ffa16fd6b580",
   "metadata": {},
   "outputs": [
    {
     "data": {
      "image/png": "[encoded data removed]",
      "text/plain": [
       "<Figure size 648x216 with 6 Axes>"
      ]
     },
     "metadata": {
      "needs_background": "light"
     },
     "output_type": "display_data"
    }
   ],
   "source": [
    "fig, axes = plt.subplots(1,3, figsize=(9,3), tight_layout=True, sharey=True)\n",
    "\n",
    "axes[0].set_title('acts')\n",
    "sns.heatmap(acts, cmap='coolwarm', vmin=-1, vmax=1, ax=axes[0])\n",
    "axes[1].set_title('norm_acts')\n",
    "sns.heatmap(norm_acts, cmap='coolwarm', vmin=-1, vmax=1, ax=axes[1])\n",
    "axes[2].set_title('pvals')\n",
    "sns.heatmap(pvals, cmap='viridis_r', ax=axes[2], vmax=0.05)\n",
    "\n",
    "plt.show()"
   ]
  },
  {
   "cell_type": "markdown",
   "id": "c518bb98-58ca-4db9-b9c2-9871b0a0e970",
   "metadata": {},
   "source": [
    "We can observe that for transcription factors `T1` and `T2`, the obtained activities can distiguish the two sample populations. `T3`, according to the prior knowledge should be able to also do it, but we see that it's activity is not significant. This happens because `gsea` cannot model weights when infering biological activities. When weights are available, we recommend using any of the methods that model weights to get better estimates. \n",
    "\n",
    "As an example, let's run the same experiment but now using the Univariate Linear Model method (`ulm`):"
   ]
  },
  {
   "cell_type": "code",
   "execution_count": 9,
   "id": "2c5bfc1e-1613-464c-b35a-be37b5af2f58",
   "metadata": {},
   "outputs": [],
   "source": [
    "# For this toy data, we need to set min_n to 0 (otherwise it is better to keep at 5):\n",
    "acts, pvals = dc.run_ulm(mat, net, min_n=0)"
   ]
  },
  {
   "cell_type": "markdown",
   "id": "459c8bbb-3306-4442-a4d2-d893f53da111",
   "metadata": {},
   "source": [
    "In this case, `ulm` only returns infered activities and their associated p-value.\n",
    "\n",
    "As before, let us plot the resulting activities:"
   ]
  },
  {
   "cell_type": "code",
   "execution_count": 10,
   "id": "47f2a3d2-d6f4-4870-8982-96c825787cba",
   "metadata": {},
   "outputs": [
    {
     "data": {
      "image/png": "[encoded data removed]",
      "text/plain": [
       "<Figure size 432x216 with 4 Axes>"
      ]
     },
     "metadata": {
      "needs_background": "light"
     },
     "output_type": "display_data"
    }
   ],
   "source": [
    "fig, axes = plt.subplots(1,2, figsize=(6,3), tight_layout=True, sharey=True)\n",
    "\n",
    "axes[0].set_title('acts')\n",
    "sns.heatmap(acts, cmap='coolwarm', vmin=-1, vmax=1, ax=axes[0])\n",
    "axes[1].set_title('pvals')\n",
    "sns.heatmap(pvals, cmap='viridis_r', ax=axes[1], vmax=0.05)\n",
    "\n",
    "plt.show()"
   ]
  },
  {
   "cell_type": "markdown",
   "id": "ca01be69-da1b-4e1a-a4c2-7ea4d1d35743",
   "metadata": {},
   "source": [
    "`ulm` correctly predicts that T3 should be active in the first sample population. "
   ]
  },
  {
   "cell_type": "markdown",
   "id": "3471bb88-81c5-426e-900e-5101a002bede",
   "metadata": {},
   "source": [
    "### Multiple methods\n",
    "\n",
    "`decoupler` also allows to run multiple methods at the same time. Moreover, it computes a consensus score based on the obtained rankings of the biologicl activities across methods. \n",
    "\n",
    "To run all methods available at the same time, simply run:"
   ]
  },
  {
   "cell_type": "code",
   "execution_count": 11,
   "id": "5c340349-4e2c-434c-b948-1e7c3d5033e9",
   "metadata": {},
   "outputs": [
    {
     "name": "stderr",
     "output_type": "stream",
     "text": [
      "/home/badi/miniconda3/envs/decoupler/lib/python3.8/site-packages/decoupler/method_aucell.py:39: RuntimeWarning: invalid value encountered in double_scalars\n",
      "  return np.sum(np.diff(x) * y)/max_auc\n"
     ]
    }
   ],
   "source": [
    "# For this toy data, we need to set min_n to 0 (otherwise it is better to keep at 5):\n",
    "results = dc.decouple(mat, net, min_n=0, verbose=False)"
   ]
  },
  {
   "cell_type": "markdown",
   "id": "191d24ef-0cda-44c2-ac3f-61786bb3fd03",
   "metadata": {},
   "source": [
    "`decouple` either returns a dictionary of activities and p-values, or stores them in the `AnnData` instance provided. \n",
    "\n",
    "Let us see how the consensus score looks like:"
   ]
  },
  {
   "cell_type": "code",
   "execution_count": 12,
   "id": "e30097c4-fe70-4d22-92d3-7dac316ff05e",
   "metadata": {},
   "outputs": [],
   "source": [
    "acts = results['consensus_estimate']\n",
    "pvals = results['consensus_pvals']"
   ]
  },
  {
   "cell_type": "code",
   "execution_count": 13,
   "id": "6e4887ea-095c-4da1-bf77-1d582fc9f39d",
   "metadata": {},
   "outputs": [
    {
     "data": {
      "image/png": "[encoded data removed]",
      "text/plain": [
       "<Figure size 432x216 with 4 Axes>"
      ]
     },
     "metadata": {
      "needs_background": "light"
     },
     "output_type": "display_data"
    }
   ],
   "source": [
    "fig, axes = plt.subplots(1,2, figsize=(6,3), tight_layout=True, sharey=True)\n",
    "\n",
    "axes[0].set_title('acts')\n",
    "sns.heatmap(acts, cmap='coolwarm', vmin=-1, vmax=1, ax=axes[0])\n",
    "axes[1].set_title('pvals')\n",
    "sns.heatmap(pvals, cmap='viridis_r', ax=axes[1], vmax=0.05)\n",
    "\n",
    "plt.show()"
   ]
  },
  {
   "cell_type": "markdown",
   "id": "19ba9ebb-d361-429f-af7b-b5b067cb865b",
   "metadata": {},
   "source": [
    "As before, we can observe that `T1` and `T2` can sepearate our two populations. Methods seem to disagree for `T3` enrichment, therefore it has no singificant score."
   ]
  }
 ],
 "metadata": {
  "kernelspec": {
   "display_name": "decoupler",
   "language": "python",
   "name": "decoupler"
  },
  "language_info": {
   "codemirror_mode": {
    "name": "ipython",
    "version": 3
   },
   "file_extension": ".py",
   "mimetype": "text/x-python",
   "name": "python",
   "nbconvert_exporter": "python",
   "pygments_lexer": "ipython3",
   "version": "3.8.12"
  }
 },
 "nbformat": 4,
 "nbformat_minor": 5
}
